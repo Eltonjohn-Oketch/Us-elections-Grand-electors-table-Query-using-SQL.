{
  "nbformat": 4,
  "nbformat_minor": 0,
  "metadata": {
    "colab": {
      "provenance": [],
      "toc_visible": true
    },
    "kernelspec": {
      "name": "python3",
      "display_name": "Python 3"
    },
    "language_info": {
      "name": "python"
    }
  },
  "cells": [
    {
      "cell_type": "markdown",
      "source": [
        "# **SQL QUERY INTO GRANDELECTORS US ELECTION TABLE.**"
      ],
      "metadata": {
        "id": "hL-7Df8C-7mt"
      }
    },
    {
      "cell_type": "code",
      "execution_count": null,
      "metadata": {
        "id": "exV67oEP2CUe",
        "colab": {
          "base_uri": "https://localhost:8080/",
          "height": 34
        },
        "outputId": "7c4cb0cb-1a85-450e-8369-7fb0720b3bd2"
      },
      "outputs": [
        {
          "output_type": "execute_result",
          "data": {
            "application/vnd.google.colaboratory.intrinsic+json": {
              "type": "string"
            },
            "text/plain": [
              "'Connected: @None'"
            ]
          },
          "metadata": {},
          "execution_count": 1
        }
      ],
      "source": [
        "# We first load the sql extension into our environment\n",
        "# This extension will allow us to work with sql on this platform\n",
        "%load_ext sql\n",
        "# We will then connect to our in memory sqlite database\n",
        "%sql sqlite://"
      ]
    },
    {
      "cell_type": "code",
      "source": [
        "# We will then import the SQL libraries that we will need to use here  \n",
        "\n",
        "import csv\n",
        "import pandas as pd"
      ],
      "metadata": {
        "id": "MPvt5jC12us6"
      },
      "execution_count": null,
      "outputs": []
    },
    {
      "cell_type": "code",
      "source": [
        "# Loading the first table from a local CSV file\n",
        "\n",
        "with open('GrandElectors_by_state.csv','r') as f:\n",
        "    GrandElectors = pd.read_csv(f, index_col=0, encoding='utf-8') \n",
        "\n",
        "# Then storing it in an SQL table of our in memory sqlite database\n",
        "\n",
        "%sql DROP TABLE if EXISTS GrandElectors;\n",
        "%sql PERSIST GrandElectors;"
      ],
      "metadata": {
        "id": "OTU9ny9Z2y4q",
        "colab": {
          "base_uri": "https://localhost:8080/",
          "height": 86
        },
        "outputId": "6bbbe10d-451e-47ce-abfd-0c3afe1e5c9f"
      },
      "execution_count": null,
      "outputs": [
        {
          "output_type": "stream",
          "name": "stdout",
          "text": [
            " * sqlite://\n",
            "Done.\n",
            " * sqlite://\n"
          ]
        },
        {
          "output_type": "execute_result",
          "data": {
            "application/vnd.google.colaboratory.intrinsic+json": {
              "type": "string"
            },
            "text/plain": [
              "'Persisted grandelectors'"
            ]
          },
          "metadata": {},
          "execution_count": 3
        }
      ]
    },
    {
      "cell_type": "code",
      "source": [
        "# Loading the first table from a local CSV file\n",
        "\n",
        "with open('Population_by_state.csv','r') as f:\n",
        "    Population = pd.read_csv(f, index_col=0, encoding='utf-8') \n",
        "\n",
        "# Then storing it in an SQL table of our in memory sqlite database\n",
        "\n",
        "%sql DROP TABLE if EXISTS Population;\n",
        "%sql PERSIST Population;"
      ],
      "metadata": {
        "id": "2LX07gSe22uZ",
        "colab": {
          "base_uri": "https://localhost:8080/",
          "height": 86
        },
        "outputId": "ab8a170e-f2d7-43a0-d34f-7322b41cc565"
      },
      "execution_count": null,
      "outputs": [
        {
          "output_type": "stream",
          "name": "stdout",
          "text": [
            " * sqlite://\n",
            "Done.\n",
            " * sqlite://\n"
          ]
        },
        {
          "output_type": "execute_result",
          "data": {
            "application/vnd.google.colaboratory.intrinsic+json": {
              "type": "string"
            },
            "text/plain": [
              "'Persisted population'"
            ]
          },
          "metadata": {},
          "execution_count": 4
        }
      ]
    },
    {
      "cell_type": "code",
      "source": [
        "# Lets preview what we have on our table GrandElectors\n",
        "\n",
        "%sql select * from GrandElectors LIMIT 9\n"
      ],
      "metadata": {
        "colab": {
          "base_uri": "https://localhost:8080/",
          "height": 260
        },
        "id": "7jnRUyJ69Qc7",
        "outputId": "d01759e9-a629-460d-ef5c-61a0e88dba61"
      },
      "execution_count": null,
      "outputs": [
        {
          "output_type": "stream",
          "name": "stdout",
          "text": [
            " * sqlite://\n",
            "Done.\n"
          ]
        },
        {
          "output_type": "execute_result",
          "data": {
            "text/html": [
              "<table>\n",
              "    <thead>\n",
              "        <tr>\n",
              "            <th>State</th>\n",
              "            <th>GrandElectors</th>\n",
              "        </tr>\n",
              "    </thead>\n",
              "    <tbody>\n",
              "        <tr>\n",
              "            <td>Alabama</td>\n",
              "            <td>9</td>\n",
              "        </tr>\n",
              "        <tr>\n",
              "            <td>Alaska</td>\n",
              "            <td>3</td>\n",
              "        </tr>\n",
              "        <tr>\n",
              "            <td>Arizona</td>\n",
              "            <td>11</td>\n",
              "        </tr>\n",
              "        <tr>\n",
              "            <td>Arkansas</td>\n",
              "            <td>6</td>\n",
              "        </tr>\n",
              "        <tr>\n",
              "            <td>California</td>\n",
              "            <td>55</td>\n",
              "        </tr>\n",
              "        <tr>\n",
              "            <td>Colorado</td>\n",
              "            <td>9</td>\n",
              "        </tr>\n",
              "        <tr>\n",
              "            <td>Connecticut</td>\n",
              "            <td>7</td>\n",
              "        </tr>\n",
              "        <tr>\n",
              "            <td>District of Columbia</td>\n",
              "            <td>3</td>\n",
              "        </tr>\n",
              "        <tr>\n",
              "            <td>Delaware</td>\n",
              "            <td>3</td>\n",
              "        </tr>\n",
              "    </tbody>\n",
              "</table>"
            ],
            "text/plain": [
              "[('Alabama', 9),\n",
              " ('Alaska', 3),\n",
              " ('Arizona', 11),\n",
              " ('Arkansas', 6),\n",
              " ('California', 55),\n",
              " ('Colorado', 9),\n",
              " ('Connecticut', 7),\n",
              " ('District of Columbia', 3),\n",
              " ('Delaware', 3)]"
            ]
          },
          "metadata": {},
          "execution_count": 5
        }
      ]
    },
    {
      "cell_type": "code",
      "source": [
        "# Lets preview what we have on our table Population\n",
        "\n",
        "%sql select * from Population LIMIT 9"
      ],
      "metadata": {
        "colab": {
          "base_uri": "https://localhost:8080/",
          "height": 260
        },
        "id": "_VkShPWA_e7V",
        "outputId": "3c78bf8d-3c3d-46db-eff5-4783bd3669ca"
      },
      "execution_count": null,
      "outputs": [
        {
          "output_type": "stream",
          "name": "stdout",
          "text": [
            " * sqlite://\n",
            "Done.\n"
          ]
        },
        {
          "output_type": "execute_result",
          "data": {
            "text/html": [
              "<table>\n",
              "    <thead>\n",
              "        <tr>\n",
              "            <th>State</th>\n",
              "            <th>Population</th>\n",
              "        </tr>\n",
              "    </thead>\n",
              "    <tbody>\n",
              "        <tr>\n",
              "            <td>CALIFORNIA</td>\n",
              "            <td>39144818</td>\n",
              "        </tr>\n",
              "        <tr>\n",
              "            <td>TEXAS</td>\n",
              "            <td>27469114</td>\n",
              "        </tr>\n",
              "        <tr>\n",
              "            <td>FLORIDA</td>\n",
              "            <td>20271272</td>\n",
              "        </tr>\n",
              "        <tr>\n",
              "            <td>NEW YORK</td>\n",
              "            <td>19795791</td>\n",
              "        </tr>\n",
              "        <tr>\n",
              "            <td>ILLINOIS</td>\n",
              "            <td>12859995</td>\n",
              "        </tr>\n",
              "        <tr>\n",
              "            <td>PENNSYLVANIA</td>\n",
              "            <td>12802503</td>\n",
              "        </tr>\n",
              "        <tr>\n",
              "            <td>OHIO</td>\n",
              "            <td>11613423</td>\n",
              "        </tr>\n",
              "        <tr>\n",
              "            <td>GEORGIA</td>\n",
              "            <td>10214860</td>\n",
              "        </tr>\n",
              "        <tr>\n",
              "            <td>NORTH CAROLINA</td>\n",
              "            <td>10042802</td>\n",
              "        </tr>\n",
              "    </tbody>\n",
              "</table>"
            ],
            "text/plain": [
              "[('CALIFORNIA', 39144818),\n",
              " ('TEXAS', 27469114),\n",
              " ('FLORIDA', 20271272),\n",
              " ('NEW YORK', 19795791),\n",
              " ('ILLINOIS', 12859995),\n",
              " ('PENNSYLVANIA', 12802503),\n",
              " ('OHIO', 11613423),\n",
              " ('GEORGIA', 10214860),\n",
              " ('NORTH CAROLINA', 10042802)]"
            ]
          },
          "metadata": {},
          "execution_count": 6
        }
      ]
    },
    {
      "cell_type": "markdown",
      "source": [
        "***1) To join the 2 tables:***"
      ],
      "metadata": {
        "id": "7dkR1UKm5gm8"
      }
    },
    {
      "cell_type": "markdown",
      "source": [
        "1.1)  *We First Convert the lowercase to uppercase the values in the Column State*"
      ],
      "metadata": {
        "id": "1p9x_5ivBSRM"
      }
    },
    {
      "cell_type": "code",
      "source": [
        "# We First Convert the lowercase to uppercase the values in the Column State in the table GrandElectors\n",
        "\n",
        "%%sql\n",
        "UPDATE GrandElectors\n",
        "SET State = UPPER(State);\n",
        "\n",
        "SELECT * FROM GrandElectors LIMIT 9;"
      ],
      "metadata": {
        "colab": {
          "base_uri": "https://localhost:8080/",
          "height": 277
        },
        "id": "VDhoaXhPAEwx",
        "outputId": "accd2cf5-1d84-47b0-d859-dc2c334797f1"
      },
      "execution_count": null,
      "outputs": [
        {
          "output_type": "stream",
          "name": "stdout",
          "text": [
            " * sqlite://\n",
            "51 rows affected.\n",
            "Done.\n"
          ]
        },
        {
          "output_type": "execute_result",
          "data": {
            "text/html": [
              "<table>\n",
              "    <thead>\n",
              "        <tr>\n",
              "            <th>State</th>\n",
              "            <th>GrandElectors</th>\n",
              "        </tr>\n",
              "    </thead>\n",
              "    <tbody>\n",
              "        <tr>\n",
              "            <td>ALABAMA</td>\n",
              "            <td>9</td>\n",
              "        </tr>\n",
              "        <tr>\n",
              "            <td>ALASKA</td>\n",
              "            <td>3</td>\n",
              "        </tr>\n",
              "        <tr>\n",
              "            <td>ARIZONA</td>\n",
              "            <td>11</td>\n",
              "        </tr>\n",
              "        <tr>\n",
              "            <td>ARKANSAS</td>\n",
              "            <td>6</td>\n",
              "        </tr>\n",
              "        <tr>\n",
              "            <td>CALIFORNIA</td>\n",
              "            <td>55</td>\n",
              "        </tr>\n",
              "        <tr>\n",
              "            <td>COLORADO</td>\n",
              "            <td>9</td>\n",
              "        </tr>\n",
              "        <tr>\n",
              "            <td>CONNECTICUT</td>\n",
              "            <td>7</td>\n",
              "        </tr>\n",
              "        <tr>\n",
              "            <td>DISTRICT OF COLUMBIA</td>\n",
              "            <td>3</td>\n",
              "        </tr>\n",
              "        <tr>\n",
              "            <td>DELAWARE</td>\n",
              "            <td>3</td>\n",
              "        </tr>\n",
              "    </tbody>\n",
              "</table>"
            ],
            "text/plain": [
              "[('ALABAMA', 9),\n",
              " ('ALASKA', 3),\n",
              " ('ARIZONA', 11),\n",
              " ('ARKANSAS', 6),\n",
              " ('CALIFORNIA', 55),\n",
              " ('COLORADO', 9),\n",
              " ('CONNECTICUT', 7),\n",
              " ('DISTRICT OF COLUMBIA', 3),\n",
              " ('DELAWARE', 3)]"
            ]
          },
          "metadata": {},
          "execution_count": 8
        }
      ]
    },
    {
      "cell_type": "markdown",
      "source": [
        "1.2) *We now endeavour to Join the two tables.*"
      ],
      "metadata": {
        "id": "V8V4hBdABh5Z"
      }
    },
    {
      "cell_type": "code",
      "source": [
        "# We now endeavour to Join the two tables.\n",
        "\n",
        "%%sql\n",
        "SELECT GrandElectors.State , GrandElectors, Population.Population\n",
        "FROM GrandElectors INNER JOIN Population ON Population.State = GrandElectors.State\n",
        "LIMIT 9;"
      ],
      "metadata": {
        "id": "3q3hxFoiBq88",
        "colab": {
          "base_uri": "https://localhost:8080/",
          "height": 260
        },
        "outputId": "cea07ac3-9931-4e55-8d5f-5fb60cb9e1b0"
      },
      "execution_count": null,
      "outputs": [
        {
          "output_type": "stream",
          "name": "stdout",
          "text": [
            " * sqlite://\n",
            "Done.\n"
          ]
        },
        {
          "output_type": "execute_result",
          "data": {
            "text/html": [
              "<table>\n",
              "    <thead>\n",
              "        <tr>\n",
              "            <th>State</th>\n",
              "            <th>GrandElectors</th>\n",
              "            <th>Population</th>\n",
              "        </tr>\n",
              "    </thead>\n",
              "    <tbody>\n",
              "        <tr>\n",
              "            <td>ALABAMA</td>\n",
              "            <td>9</td>\n",
              "            <td>4858979</td>\n",
              "        </tr>\n",
              "        <tr>\n",
              "            <td>ALASKA</td>\n",
              "            <td>3</td>\n",
              "            <td>738432</td>\n",
              "        </tr>\n",
              "        <tr>\n",
              "            <td>ARIZONA</td>\n",
              "            <td>11</td>\n",
              "            <td>6828065</td>\n",
              "        </tr>\n",
              "        <tr>\n",
              "            <td>ARKANSAS</td>\n",
              "            <td>6</td>\n",
              "            <td>2978204</td>\n",
              "        </tr>\n",
              "        <tr>\n",
              "            <td>CALIFORNIA</td>\n",
              "            <td>55</td>\n",
              "            <td>39144818</td>\n",
              "        </tr>\n",
              "        <tr>\n",
              "            <td>COLORADO</td>\n",
              "            <td>9</td>\n",
              "            <td>5456574</td>\n",
              "        </tr>\n",
              "        <tr>\n",
              "            <td>CONNECTICUT</td>\n",
              "            <td>7</td>\n",
              "            <td>3590886</td>\n",
              "        </tr>\n",
              "        <tr>\n",
              "            <td>DISTRICT OF COLUMBIA</td>\n",
              "            <td>3</td>\n",
              "            <td>672228</td>\n",
              "        </tr>\n",
              "        <tr>\n",
              "            <td>DELAWARE</td>\n",
              "            <td>3</td>\n",
              "            <td>945934</td>\n",
              "        </tr>\n",
              "    </tbody>\n",
              "</table>"
            ],
            "text/plain": [
              "[('ALABAMA', 9, 4858979),\n",
              " ('ALASKA', 3, 738432),\n",
              " ('ARIZONA', 11, 6828065),\n",
              " ('ARKANSAS', 6, 2978204),\n",
              " ('CALIFORNIA', 55, 39144818),\n",
              " ('COLORADO', 9, 5456574),\n",
              " ('CONNECTICUT', 7, 3590886),\n",
              " ('DISTRICT OF COLUMBIA', 3, 672228),\n",
              " ('DELAWARE', 3, 945934)]"
            ]
          },
          "metadata": {},
          "execution_count": 9
        }
      ]
    },
    {
      "cell_type": "markdown",
      "source": [
        "2) ***Your boss wants you to change the name of the \"District of Columbia\" state to its short version \"DC\". Please do that.***"
      ],
      "metadata": {
        "id": "pySQBeTQ5oF6"
      }
    },
    {
      "cell_type": "code",
      "source": [
        "\n",
        "# This code will change the value of DISTRICT OF COLUMBIA now uppercased within the Column state into DC\n",
        "\n",
        "%%sql\n",
        "UPDATE GrandElectors\n",
        "SET State = \"DC\"\n",
        "WHERE State = \"DISTRICT OF COLUMBIA\";\n",
        "\n",
        "SELECT * FROM GrandElectors LIMIT 9;"
      ],
      "metadata": {
        "colab": {
          "base_uri": "https://localhost:8080/",
          "height": 277
        },
        "id": "nvPg0ZO-5wLy",
        "outputId": "33839a80-d785-4f10-82f7-aa899bd34185"
      },
      "execution_count": null,
      "outputs": [
        {
          "output_type": "stream",
          "name": "stdout",
          "text": [
            " * sqlite://\n",
            "1 rows affected.\n",
            "Done.\n"
          ]
        },
        {
          "output_type": "execute_result",
          "data": {
            "text/html": [
              "<table>\n",
              "    <thead>\n",
              "        <tr>\n",
              "            <th>State</th>\n",
              "            <th>GrandElectors</th>\n",
              "        </tr>\n",
              "    </thead>\n",
              "    <tbody>\n",
              "        <tr>\n",
              "            <td>ALABAMA</td>\n",
              "            <td>9</td>\n",
              "        </tr>\n",
              "        <tr>\n",
              "            <td>ALASKA</td>\n",
              "            <td>3</td>\n",
              "        </tr>\n",
              "        <tr>\n",
              "            <td>ARIZONA</td>\n",
              "            <td>11</td>\n",
              "        </tr>\n",
              "        <tr>\n",
              "            <td>ARKANSAS</td>\n",
              "            <td>6</td>\n",
              "        </tr>\n",
              "        <tr>\n",
              "            <td>CALIFORNIA</td>\n",
              "            <td>55</td>\n",
              "        </tr>\n",
              "        <tr>\n",
              "            <td>COLORADO</td>\n",
              "            <td>9</td>\n",
              "        </tr>\n",
              "        <tr>\n",
              "            <td>CONNECTICUT</td>\n",
              "            <td>7</td>\n",
              "        </tr>\n",
              "        <tr>\n",
              "            <td>DC</td>\n",
              "            <td>3</td>\n",
              "        </tr>\n",
              "        <tr>\n",
              "            <td>DELAWARE</td>\n",
              "            <td>3</td>\n",
              "        </tr>\n",
              "    </tbody>\n",
              "</table>"
            ],
            "text/plain": [
              "[('ALABAMA', 9),\n",
              " ('ALASKA', 3),\n",
              " ('ARIZONA', 11),\n",
              " ('ARKANSAS', 6),\n",
              " ('CALIFORNIA', 55),\n",
              " ('COLORADO', 9),\n",
              " ('CONNECTICUT', 7),\n",
              " ('DC', 3),\n",
              " ('DELAWARE', 3)]"
            ]
          },
          "metadata": {},
          "execution_count": 10
        }
      ]
    },
    {
      "cell_type": "markdown",
      "source": [
        "3) ***To compute the ratio between the number of grand electors and the population. Please create a new column with that ratio.***"
      ],
      "metadata": {
        "id": "dqB7bFED5w-5"
      }
    },
    {
      "cell_type": "code",
      "source": [
        "\n",
        "# We will make a programs that finds the ratio Grand Electors per capita and name that column Ratio\n",
        "\n",
        "%%sql  \n",
        "SELECT *, ( GrandElectors*1.0 / Population*1.0 ) AS Ratio\n",
        "FROM GrandElectors INNER JOIN Population ON Population.State = GrandElectors.State\n",
        "LIMIT 9;\n"
      ],
      "metadata": {
        "id": "V9gps5Rg6QiO",
        "colab": {
          "base_uri": "https://localhost:8080/",
          "height": 260
        },
        "outputId": "c5aa20f9-23b2-45e7-f05e-de5ad9f2dfbf"
      },
      "execution_count": null,
      "outputs": [
        {
          "output_type": "stream",
          "name": "stdout",
          "text": [
            " * sqlite://\n",
            "Done.\n"
          ]
        },
        {
          "output_type": "execute_result",
          "data": {
            "text/html": [
              "<table>\n",
              "    <thead>\n",
              "        <tr>\n",
              "            <th>State</th>\n",
              "            <th>GrandElectors</th>\n",
              "            <th>State_1</th>\n",
              "            <th>Population</th>\n",
              "            <th>Ratio</th>\n",
              "        </tr>\n",
              "    </thead>\n",
              "    <tbody>\n",
              "        <tr>\n",
              "            <td>ALABAMA</td>\n",
              "            <td>9</td>\n",
              "            <td>ALABAMA</td>\n",
              "            <td>4858979</td>\n",
              "            <td>1.8522409749043987e-06</td>\n",
              "        </tr>\n",
              "        <tr>\n",
              "            <td>ALASKA</td>\n",
              "            <td>3</td>\n",
              "            <td>ALASKA</td>\n",
              "            <td>738432</td>\n",
              "            <td>4.0626625065002604e-06</td>\n",
              "        </tr>\n",
              "        <tr>\n",
              "            <td>ARIZONA</td>\n",
              "            <td>11</td>\n",
              "            <td>ARIZONA</td>\n",
              "            <td>6828065</td>\n",
              "            <td>1.610998137832607e-06</td>\n",
              "        </tr>\n",
              "        <tr>\n",
              "            <td>ARKANSAS</td>\n",
              "            <td>6</td>\n",
              "            <td>ARKANSAS</td>\n",
              "            <td>2978204</td>\n",
              "            <td>2.0146370094190997e-06</td>\n",
              "        </tr>\n",
              "        <tr>\n",
              "            <td>CALIFORNIA</td>\n",
              "            <td>55</td>\n",
              "            <td>CALIFORNIA</td>\n",
              "            <td>39144818</td>\n",
              "            <td>1.4050391037710278e-06</td>\n",
              "        </tr>\n",
              "        <tr>\n",
              "            <td>COLORADO</td>\n",
              "            <td>9</td>\n",
              "            <td>COLORADO</td>\n",
              "            <td>5456574</td>\n",
              "            <td>1.6493865931260165e-06</td>\n",
              "        </tr>\n",
              "        <tr>\n",
              "            <td>CONNECTICUT</td>\n",
              "            <td>7</td>\n",
              "            <td>CONNECTICUT</td>\n",
              "            <td>3590886</td>\n",
              "            <td>1.949379623858847e-06</td>\n",
              "        </tr>\n",
              "        <tr>\n",
              "            <td>DELAWARE</td>\n",
              "            <td>3</td>\n",
              "            <td>DELAWARE</td>\n",
              "            <td>945934</td>\n",
              "            <td>3.1714686225466047e-06</td>\n",
              "        </tr>\n",
              "        <tr>\n",
              "            <td>FLORIDA</td>\n",
              "            <td>29</td>\n",
              "            <td>FLORIDA</td>\n",
              "            <td>20271272</td>\n",
              "            <td>1.4305959685213637e-06</td>\n",
              "        </tr>\n",
              "    </tbody>\n",
              "</table>"
            ],
            "text/plain": [
              "[('ALABAMA', 9, 'ALABAMA', 4858979, 1.8522409749043987e-06),\n",
              " ('ALASKA', 3, 'ALASKA', 738432, 4.0626625065002604e-06),\n",
              " ('ARIZONA', 11, 'ARIZONA', 6828065, 1.610998137832607e-06),\n",
              " ('ARKANSAS', 6, 'ARKANSAS', 2978204, 2.0146370094190997e-06),\n",
              " ('CALIFORNIA', 55, 'CALIFORNIA', 39144818, 1.4050391037710278e-06),\n",
              " ('COLORADO', 9, 'COLORADO', 5456574, 1.6493865931260165e-06),\n",
              " ('CONNECTICUT', 7, 'CONNECTICUT', 3590886, 1.949379623858847e-06),\n",
              " ('DELAWARE', 3, 'DELAWARE', 945934, 3.1714686225466047e-06),\n",
              " ('FLORIDA', 29, 'FLORIDA', 20271272, 1.4305959685213637e-06)]"
            ]
          },
          "metadata": {},
          "execution_count": 12
        }
      ]
    },
    {
      "cell_type": "markdown",
      "source": [
        "4) ***To order the states by decreasing ratio of Grand Electors per capita. That will make our priority list.***"
      ],
      "metadata": {
        "id": "vsJrs6Ry6HK_"
      }
    },
    {
      "cell_type": "code",
      "source": [
        "\n",
        "# We will write a code that orders the states in decreasing order of GrandElectors per capita Ratio\n",
        "\n",
        "%%sql  \n",
        "SELECT *, ( GrandElectors*1.0 / Population*1.0 ) AS Ratio\n",
        "FROM GrandElectors INNER JOIN Population ON Population.State = GrandElectors.State\n",
        "ORDER BY Ratio DESC\n",
        "LIMIT 9;"
      ],
      "metadata": {
        "id": "sSdQbFy_6GGM",
        "colab": {
          "base_uri": "https://localhost:8080/",
          "height": 260
        },
        "outputId": "51d7d881-5722-414f-cf2a-ab71f24ef23b"
      },
      "execution_count": null,
      "outputs": [
        {
          "output_type": "stream",
          "name": "stdout",
          "text": [
            " * sqlite://\n",
            "Done.\n"
          ]
        },
        {
          "output_type": "execute_result",
          "data": {
            "text/html": [
              "<table>\n",
              "    <thead>\n",
              "        <tr>\n",
              "            <th>State</th>\n",
              "            <th>GrandElectors</th>\n",
              "            <th>State_1</th>\n",
              "            <th>Population</th>\n",
              "            <th>Ratio</th>\n",
              "        </tr>\n",
              "    </thead>\n",
              "    <tbody>\n",
              "        <tr>\n",
              "            <td>WYOMING</td>\n",
              "            <td>3</td>\n",
              "            <td>WYOMING</td>\n",
              "            <td>586107</td>\n",
              "            <td>5.118519314732634e-06</td>\n",
              "        </tr>\n",
              "        <tr>\n",
              "            <td>VERMONT</td>\n",
              "            <td>3</td>\n",
              "            <td>VERMONT</td>\n",
              "            <td>626042</td>\n",
              "            <td>4.792010759661493e-06</td>\n",
              "        </tr>\n",
              "        <tr>\n",
              "            <td>ALASKA</td>\n",
              "            <td>3</td>\n",
              "            <td>ALASKA</td>\n",
              "            <td>738432</td>\n",
              "            <td>4.0626625065002604e-06</td>\n",
              "        </tr>\n",
              "        <tr>\n",
              "            <td>NORTH DAKOTA</td>\n",
              "            <td>3</td>\n",
              "            <td>NORTH DAKOTA</td>\n",
              "            <td>756927</td>\n",
              "            <td>3.963394092164766e-06</td>\n",
              "        </tr>\n",
              "        <tr>\n",
              "            <td>RHODE ISLAND</td>\n",
              "            <td>4</td>\n",
              "            <td>RHODE ISLAND</td>\n",
              "            <td>1056298</td>\n",
              "            <td>3.7868101615263876e-06</td>\n",
              "        </tr>\n",
              "        <tr>\n",
              "            <td>SOUTH DAKOTA</td>\n",
              "            <td>3</td>\n",
              "            <td>SOUTH DAKOTA</td>\n",
              "            <td>858469</td>\n",
              "            <td>3.4945932817609025e-06</td>\n",
              "        </tr>\n",
              "        <tr>\n",
              "            <td>DELAWARE</td>\n",
              "            <td>3</td>\n",
              "            <td>DELAWARE</td>\n",
              "            <td>945934</td>\n",
              "            <td>3.1714686225466047e-06</td>\n",
              "        </tr>\n",
              "        <tr>\n",
              "            <td>MAINE</td>\n",
              "            <td>4</td>\n",
              "            <td>MAINE</td>\n",
              "            <td>1329328</td>\n",
              "            <td>3.009039153617467e-06</td>\n",
              "        </tr>\n",
              "        <tr>\n",
              "            <td>NEW HAMPSHIRE</td>\n",
              "            <td>4</td>\n",
              "            <td>NEW HAMPSHIRE</td>\n",
              "            <td>1330608</td>\n",
              "            <td>3.0061445594795764e-06</td>\n",
              "        </tr>\n",
              "    </tbody>\n",
              "</table>"
            ],
            "text/plain": [
              "[('WYOMING', 3, 'WYOMING', 586107, 5.118519314732634e-06),\n",
              " ('VERMONT', 3, 'VERMONT', 626042, 4.792010759661493e-06),\n",
              " ('ALASKA', 3, 'ALASKA', 738432, 4.0626625065002604e-06),\n",
              " ('NORTH DAKOTA', 3, 'NORTH DAKOTA', 756927, 3.963394092164766e-06),\n",
              " ('RHODE ISLAND', 4, 'RHODE ISLAND', 1056298, 3.7868101615263876e-06),\n",
              " ('SOUTH DAKOTA', 3, 'SOUTH DAKOTA', 858469, 3.4945932817609025e-06),\n",
              " ('DELAWARE', 3, 'DELAWARE', 945934, 3.1714686225466047e-06),\n",
              " ('MAINE', 4, 'MAINE', 1329328, 3.009039153617467e-06),\n",
              " ('NEW HAMPSHIRE', 4, 'NEW HAMPSHIRE', 1330608, 3.0061445594795764e-06)]"
            ]
          },
          "metadata": {},
          "execution_count": 14
        }
      ]
    },
    {
      "cell_type": "markdown",
      "source": [
        "5) ***To compute the running total of Grand Electors in that sorted list.***"
      ],
      "metadata": {
        "id": "92kwDG5l6N_P"
      }
    },
    {
      "cell_type": "code",
      "source": [
        "\n",
        "# We write a code that gets the running total of all the GrandElectors in the sorted list above\n",
        "\n",
        "%%sql\n",
        "SELECT SUM(GrandElectors) , COUNT(GrandElectors)\n",
        "FROM GrandElectors INNER JOIN Population ON Population.State = GrandElectors.State\n"
      ],
      "metadata": {
        "id": "74VuE2GL6ZRV",
        "colab": {
          "base_uri": "https://localhost:8080/",
          "height": 94
        },
        "outputId": "a8c804cc-4948-4858-b825-a302c7693a58"
      },
      "execution_count": null,
      "outputs": [
        {
          "output_type": "stream",
          "name": "stdout",
          "text": [
            " * sqlite://\n",
            "Done.\n"
          ]
        },
        {
          "output_type": "execute_result",
          "data": {
            "text/html": [
              "<table>\n",
              "    <thead>\n",
              "        <tr>\n",
              "            <th>SUM(GrandElectors)</th>\n",
              "            <th>COUNT(GrandElectors)</th>\n",
              "        </tr>\n",
              "    </thead>\n",
              "    <tbody>\n",
              "        <tr>\n",
              "            <td>535</td>\n",
              "            <td>50</td>\n",
              "        </tr>\n",
              "    </tbody>\n",
              "</table>"
            ],
            "text/plain": [
              "[(535, 50)]"
            ]
          },
          "metadata": {},
          "execution_count": 17
        }
      ]
    },
    {
      "cell_type": "markdown",
      "source": [
        "6)***Independently, to compute the half of the total of Grand Electors overall (in the whole country)***"
      ],
      "metadata": {
        "id": "KlTE6AxV6Z7a"
      }
    },
    {
      "cell_type": "code",
      "source": [
        "# We write a code that computes half of the grandElectors Overall in the whole country\n",
        "\n",
        "%%sql\n",
        "SELECT SUM(GrandElectors)/2, COUNT(GrandElectors) FROM GrandElectors\n"
      ],
      "metadata": {
        "id": "WGUUrJFP6jSD",
        "colab": {
          "base_uri": "https://localhost:8080/",
          "height": 94
        },
        "outputId": "34ebdbda-d9bd-461d-aca8-de399a7b1a02"
      },
      "execution_count": null,
      "outputs": [
        {
          "output_type": "stream",
          "name": "stdout",
          "text": [
            " * sqlite://\n",
            "Done.\n"
          ]
        },
        {
          "output_type": "execute_result",
          "data": {
            "text/html": [
              "<table>\n",
              "    <thead>\n",
              "        <tr>\n",
              "            <th>SUM(GrandElectors)/2</th>\n",
              "            <th>COUNT(GrandElectors)</th>\n",
              "        </tr>\n",
              "    </thead>\n",
              "    <tbody>\n",
              "        <tr>\n",
              "            <td>269</td>\n",
              "            <td>51</td>\n",
              "        </tr>\n",
              "    </tbody>\n",
              "</table>"
            ],
            "text/plain": [
              "[(269, 51)]"
            ]
          },
          "metadata": {},
          "execution_count": 18
        }
      ]
    },
    {
      "cell_type": "markdown",
      "source": [
        "7) ***To filter our sorted list of states in order to keep only the (top) ones enabling us to reach the computed threshold. (the other states can be ignored). That is our target list.***"
      ],
      "metadata": {
        "id": "YPQVd_SO6j5o"
      }
    },
    {
      "cell_type": "code",
      "source": [
        "\n",
        "# We write a code that filters the sorted list of states in order to keep the top ones enabling us to reach the computed threshold.\n",
        "# This ends when the SUM(GrandElectors) is >= 269 needed to win an election.\n",
        "# These are the states that will be prioritized to win the election.\n",
        "# Though i calculated it manually, sad\n",
        "\n",
        "%%sql  \n",
        "SELECT *, ( GrandElectors*1.0 / Population*1.0 ) AS Ratio\n",
        "FROM GrandElectors INNER JOIN Population ON Population.State = GrandElectors.State\n",
        "ORDER BY Ratio DESC\n",
        "limit 12\n"
      ],
      "metadata": {
        "id": "eSICS1uI6xFG",
        "colab": {
          "base_uri": "https://localhost:8080/",
          "height": 321
        },
        "outputId": "6caf1871-e019-4329-c1f1-8c31c5eb9c60"
      },
      "execution_count": null,
      "outputs": [
        {
          "output_type": "stream",
          "name": "stdout",
          "text": [
            " * sqlite://\n",
            "Done.\n"
          ]
        },
        {
          "output_type": "execute_result",
          "data": {
            "text/html": [
              "<table>\n",
              "    <thead>\n",
              "        <tr>\n",
              "            <th>State</th>\n",
              "            <th>GrandElectors</th>\n",
              "            <th>State_1</th>\n",
              "            <th>Population</th>\n",
              "            <th>Ratio</th>\n",
              "        </tr>\n",
              "    </thead>\n",
              "    <tbody>\n",
              "        <tr>\n",
              "            <td>WYOMING</td>\n",
              "            <td>3</td>\n",
              "            <td>WYOMING</td>\n",
              "            <td>586107</td>\n",
              "            <td>5.118519314732634e-06</td>\n",
              "        </tr>\n",
              "        <tr>\n",
              "            <td>VERMONT</td>\n",
              "            <td>3</td>\n",
              "            <td>VERMONT</td>\n",
              "            <td>626042</td>\n",
              "            <td>4.792010759661493e-06</td>\n",
              "        </tr>\n",
              "        <tr>\n",
              "            <td>ALASKA</td>\n",
              "            <td>3</td>\n",
              "            <td>ALASKA</td>\n",
              "            <td>738432</td>\n",
              "            <td>4.0626625065002604e-06</td>\n",
              "        </tr>\n",
              "        <tr>\n",
              "            <td>NORTH DAKOTA</td>\n",
              "            <td>3</td>\n",
              "            <td>NORTH DAKOTA</td>\n",
              "            <td>756927</td>\n",
              "            <td>3.963394092164766e-06</td>\n",
              "        </tr>\n",
              "        <tr>\n",
              "            <td>RHODE ISLAND</td>\n",
              "            <td>4</td>\n",
              "            <td>RHODE ISLAND</td>\n",
              "            <td>1056298</td>\n",
              "            <td>3.7868101615263876e-06</td>\n",
              "        </tr>\n",
              "        <tr>\n",
              "            <td>SOUTH DAKOTA</td>\n",
              "            <td>3</td>\n",
              "            <td>SOUTH DAKOTA</td>\n",
              "            <td>858469</td>\n",
              "            <td>3.4945932817609025e-06</td>\n",
              "        </tr>\n",
              "        <tr>\n",
              "            <td>DELAWARE</td>\n",
              "            <td>3</td>\n",
              "            <td>DELAWARE</td>\n",
              "            <td>945934</td>\n",
              "            <td>3.1714686225466047e-06</td>\n",
              "        </tr>\n",
              "        <tr>\n",
              "            <td>MAINE</td>\n",
              "            <td>4</td>\n",
              "            <td>MAINE</td>\n",
              "            <td>1329328</td>\n",
              "            <td>3.009039153617467e-06</td>\n",
              "        </tr>\n",
              "        <tr>\n",
              "            <td>NEW HAMPSHIRE</td>\n",
              "            <td>4</td>\n",
              "            <td>NEW HAMPSHIRE</td>\n",
              "            <td>1330608</td>\n",
              "            <td>3.0061445594795764e-06</td>\n",
              "        </tr>\n",
              "        <tr>\n",
              "            <td>MONTANA</td>\n",
              "            <td>3</td>\n",
              "            <td>MONTANA</td>\n",
              "            <td>1032949</td>\n",
              "            <td>2.904306020916812e-06</td>\n",
              "        </tr>\n",
              "        <tr>\n",
              "            <td>HAWAII</td>\n",
              "            <td>4</td>\n",
              "            <td>HAWAII</td>\n",
              "            <td>1431603</td>\n",
              "            <td>2.794070702562093e-06</td>\n",
              "        </tr>\n",
              "        <tr>\n",
              "            <td>WEST VIRGINIA</td>\n",
              "            <td>5</td>\n",
              "            <td>WEST VIRGINIA</td>\n",
              "            <td>1844128</td>\n",
              "            <td>2.7113085425740512e-06</td>\n",
              "        </tr>\n",
              "    </tbody>\n",
              "</table>"
            ],
            "text/plain": [
              "[('WYOMING', 3, 'WYOMING', 586107, 5.118519314732634e-06),\n",
              " ('VERMONT', 3, 'VERMONT', 626042, 4.792010759661493e-06),\n",
              " ('ALASKA', 3, 'ALASKA', 738432, 4.0626625065002604e-06),\n",
              " ('NORTH DAKOTA', 3, 'NORTH DAKOTA', 756927, 3.963394092164766e-06),\n",
              " ('RHODE ISLAND', 4, 'RHODE ISLAND', 1056298, 3.7868101615263876e-06),\n",
              " ('SOUTH DAKOTA', 3, 'SOUTH DAKOTA', 858469, 3.4945932817609025e-06),\n",
              " ('DELAWARE', 3, 'DELAWARE', 945934, 3.1714686225466047e-06),\n",
              " ('MAINE', 4, 'MAINE', 1329328, 3.009039153617467e-06),\n",
              " ('NEW HAMPSHIRE', 4, 'NEW HAMPSHIRE', 1330608, 3.0061445594795764e-06),\n",
              " ('MONTANA', 3, 'MONTANA', 1032949, 2.904306020916812e-06),\n",
              " ('HAWAII', 4, 'HAWAII', 1431603, 2.794070702562093e-06),\n",
              " ('WEST VIRGINIA', 5, 'WEST VIRGINIA', 1844128, 2.7113085425740512e-06)]"
            ]
          },
          "metadata": {},
          "execution_count": 19
        }
      ]
    }
  ]
}